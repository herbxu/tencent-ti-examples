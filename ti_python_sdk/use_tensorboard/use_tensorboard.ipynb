{
 "cells": [
  {
   "cell_type": "markdown",
   "metadata": {},
   "source": [
    "# Use TI SDK For Tensorboard"
   ]
  },
  {
   "cell_type": "markdown",
   "metadata": {},
   "source": [
    "本例通过Mnist例子介绍TI SDK如何使用Tensorboard查看Tensorflow的训练模型"
   ]
  },
  {
   "cell_type": "markdown",
   "metadata": {},
   "source": [
    "### 下载训练数据"
   ]
  },
  {
   "cell_type": "code",
   "execution_count": null,
   "metadata": {},
   "outputs": [],
   "source": [
    "from tensorflow.examples.tutorials.mnist import input_data\n",
    "import tensorflow as tf\n",
    "\n",
    "train_data_path = 'train-data'\n",
    "data_sets = input_data.read_data_sets('train-data', dtype=tf.uint8, reshape=False, validation_size=5000)"
   ]
  },
  {
   "cell_type": "markdown",
   "metadata": {},
   "source": [
    "### TFRecord数据转换"
   ]
  },
  {
   "cell_type": "code",
   "execution_count": null,
   "metadata": {},
   "outputs": [],
   "source": [
    "\"\"\"Converts MNIST data to TFRecords file format with Example protos.\"\"\"\n",
    "import os\n",
    "import tensorflow as tf\n",
    "\n",
    "\n",
    "def _int64_feature(value):\n",
    "    return tf.train.Feature(int64_list=tf.train.Int64List(value=[value]))\n",
    "\n",
    "\n",
    "def _bytes_feature(value):\n",
    "    return tf.train.Feature(bytes_list=tf.train.BytesList(value=[value]))\n",
    "\n",
    "\n",
    "def convert_to(data_set, name\n",
    "               , directory):\n",
    "    \"\"\"Converts a dataset to tfrecords.\"\"\"\n",
    "    images = data_set.images\n",
    "    labels = data_set.labels\n",
    "    num_examples = data_set.num_examples\n",
    "\n",
    "    if images.shape[0] != num_examples:\n",
    "        raise ValueError('Images size %d does not match label size %d.' %\n",
    "                         (images.shape[0], num_examples))\n",
    "    rows = images.shape[1]\n",
    "    cols = images.shape[2]\n",
    "    depth = images.shape[3]\n",
    "\n",
    "    filename = os.path.join(directory, name + '.tfrecords')\n",
    "    print('Writing', filename)\n",
    "    writer = tf.python_io.TFRecordWriter(filename)\n",
    "    for index in range(num_examples):\n",
    "        image_raw = images[index].tostring()\n",
    "        example = tf.train.Example(features=tf.train.Features(feature={\n",
    "            'height': _int64_feature(rows),\n",
    "            'width': _int64_feature(cols),\n",
    "            'depth': _int64_feature(depth),\n",
    "            'label': _int64_feature(int(labels[index])),\n",
    "            'image_raw': _bytes_feature(image_raw)}))\n",
    "        writer.write(example.SerializeToString())\n",
    "    writer.close()\n",
    "\n",
    "\n",
    "convert_to(data_sets.train, 'train', train_data_path)\n",
    "convert_to(data_sets.validation, 'validation', train_data_path)\n",
    "convert_to(data_sets.test, 'test', train_data_path)"
   ]
  },
  {
   "cell_type": "markdown",
   "metadata": {},
   "source": [
    "### cos数据上传"
   ]
  },
  {
   "cell_type": "code",
   "execution_count": null,
   "metadata": {},
   "outputs": [],
   "source": [
    "from ti import session\n",
    "ti_session = session.Session()\n",
    "inputs = ti_session.upload_data(path=train_data_path, key_prefix=\"train-data/mnist\")"
   ]
  },
  {
   "cell_type": "markdown",
   "metadata": {},
   "source": [
    "### Tensorboard模式"
   ]
  },
  {
   "cell_type": "markdown",
   "metadata": {},
   "source": [
    "1. 您可在训练任务fit函数中传入参数run_tensorboard_locally，该值为True时，TI SDK将会在提交环境中启动Tensorboard服务；\n",
    "2. 您的训练代码需要处理Tensorflow检查点逻辑，写入到/opt/ml/checkpoints/目录中；TI SDK后台将会自动同步/opt/ml/checkpoints/至cos://{training_bucket}/{training_job_name}/output/checkpoints；其中{training_bucket}和{training_job_name}分别为训练任务的cos桶名称和任务名称；\n",
    "3. Tensorboard服务默认监听端口为6006，若6006端口不可用时，将会以此从端口6007至端口6105范围尝试可用端口，您可在训练日志输出查看Tensorboard服务端口port；\n",
    "4. 若提交环境为Notebook环境时，您可通过浏览器中输入域名 https://{notebook_url}/proxy/port/ ，其中{notebook_url}为您的notebook域名，即Notebook的域名后加入后缀/proxy/port/访问Tensorboard服务；\n",
    "5. 若提交环境为本地环境时，您可通过浏览器中输入本机域名 http://localhost:port ，访问Tensorboard服务；"
   ]
  },
  {
   "cell_type": "markdown",
   "metadata": {},
   "source": [
    "### 训练任务提交"
   ]
  },
  {
   "cell_type": "code",
   "execution_count": null,
   "metadata": {},
   "outputs": [],
   "source": [
    "from __future__ import absolute_import, print_function\n",
    "\n",
    "import sys\n",
    "from ti import session\n",
    "from ti.tensorflow import TensorFlow\n",
    "\n",
    "# 初始化\n",
    "ti_session = session.Session()\n",
    "hyperparameters = {'train-steps': 5000, \"evaluation-steps\":1000}\n",
    "\n",
    "# 创建一个Tensorflow Estimator\n",
    "tf_estimator = TensorFlow(role=\"TIONE_QCSRole\",\n",
    "                          train_instance_count=1,\n",
    "                          train_instance_type='TI.SMALL2.1core2g',\n",
    "                          py_version='py3',\n",
    "                          script_mode=True,\n",
    "                          hyperparameters=hyperparameters,\n",
    "                          framework_version='1.14.0',\n",
    "                          entry_point='mnist.py',\n",
    "                          source_dir='train-code')\n",
    "\n",
    "# 提交Tensorflow训练任务，并使用tensorboard模式\n",
    "tf_estimator.fit(inputs, run_tensorboard_locally=True)"
   ]
  }
 ],
 "metadata": {
  "kernelspec": {
   "display_name": "conda_tensorflow_py3",
   "language": "python",
   "name": "conda_tensorflow_py3"
  },
  "language_info": {
   "codemirror_mode": {
    "name": "ipython",
    "version": 3
   },
   "file_extension": ".py",
   "mimetype": "text/x-python",
   "name": "python",
   "nbconvert_exporter": "python",
   "pygments_lexer": "ipython3",
   "version": "3.6.8"
  }
 },
 "nbformat": 4,
 "nbformat_minor": 4
}
